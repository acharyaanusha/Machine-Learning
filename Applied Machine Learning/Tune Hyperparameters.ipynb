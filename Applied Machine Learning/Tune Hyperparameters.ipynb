{
 "cells": [
  {
   "cell_type": "markdown",
   "metadata": {},
   "source": [
    "## Pipeline: Tune hyperparameters\n",
    "\n",
    "Using the Titanic dataset from [this](https://www.kaggle.com/c/titanic/overview) Kaggle competition.\n",
    "\n",
    "In this section, we will tune the hyperparameters for the basic model we fit in the last section."
   ]
  },
  {
   "cell_type": "markdown",
   "metadata": {},
   "source": [
    "### Read in data\n",
    "\n",
    "![Tune Hyperparameters](../../img/tune_hyperparameters.png)"
   ]
  },
  {
   "cell_type": "code",
   "execution_count": 1,
   "metadata": {},
   "outputs": [
    {
     "name": "stderr",
     "output_type": "stream",
     "text": [
      "C:\\ProgramData\\Anaconda3\\lib\\site-packages\\sklearn\\ensemble\\weight_boosting.py:29: DeprecationWarning: numpy.core.umath_tests is an internal NumPy module and should not be imported. It will be removed in a future NumPy release.\n",
      "  from numpy.core.umath_tests import inner1d\n"
     ]
    }
   ],
   "source": [
    "import pandas as pd\n",
    "from sklearn.ensemble import RandomForestClassifier\n",
    "#we are importing GridSearchCV instead of cross_val_score: GridSearchCV allows us to run grid search within cross validation\n",
    "from sklearn.model_selection import GridSearchCV\n",
    "\n",
    "tr_features = pd.read_csv(r'C:\\Users\\achar\\Desktop\\project\\Ex_Files_Applied_Machine_Learning\\Exercise Files/train_features.csv')\n",
    "tr_labels = pd.read_csv(r'C:\\Users\\achar\\Desktop\\project\\Ex_Files_Applied_Machine_Learning\\Exercise Files/train_labels.csv', header=None)"
   ]
  },
  {
   "cell_type": "markdown",
   "metadata": {},
   "source": [
    "### Hyperparameter tuning\n",
    "\n",
    "![Hyperparameters](../../img/hyperparameters.png)"
   ]
  },
  {
   "cell_type": "code",
   "execution_count": 2,
   "metadata": {},
   "outputs": [],
   "source": [
    "#Function to print out results cleanly: too much information\n",
    "def print_results(results):\n",
    "    print('BEST PARAMS: {}\\n'.format(results.best_params_))\n",
    "\n",
    "    means = results.cv_results_['mean_test_score']\n",
    "    stds = results.cv_results_['std_test_score']\n",
    "    for mean, std, params in zip(means, stds, results.cv_results_['params']):\n",
    "        print('{} (+/-{}) for {}'.format(round(mean, 3), round(std * 2, 3), params))"
   ]
  },
  {
   "cell_type": "code",
   "execution_count": 4,
   "metadata": {},
   "outputs": [
    {
     "name": "stdout",
     "output_type": "stream",
     "text": [
      "BEST PARAMS: {'max_depth': 10, 'n_estimators': 50}\n",
      "\n",
      "0.779 (+/-0.133) for {'max_depth': 2, 'n_estimators': 5}\n",
      "0.809 (+/-0.097) for {'max_depth': 2, 'n_estimators': 50}\n",
      "0.801 (+/-0.116) for {'max_depth': 2, 'n_estimators': 100}\n",
      "0.787 (+/-0.065) for {'max_depth': 10, 'n_estimators': 5}\n",
      "0.82 (+/-0.045) for {'max_depth': 10, 'n_estimators': 50}\n",
      "0.815 (+/-0.043) for {'max_depth': 10, 'n_estimators': 100}\n",
      "0.775 (+/-0.088) for {'max_depth': 20, 'n_estimators': 5}\n",
      "0.809 (+/-0.045) for {'max_depth': 20, 'n_estimators': 50}\n",
      "0.813 (+/-0.026) for {'max_depth': 20, 'n_estimators': 100}\n",
      "0.787 (+/-0.022) for {'max_depth': None, 'n_estimators': 5}\n",
      "0.803 (+/-0.041) for {'max_depth': None, 'n_estimators': 50}\n",
      "0.809 (+/-0.031) for {'max_depth': None, 'n_estimators': 100}\n"
     ]
    }
   ],
   "source": [
    "#Random Forest is a collection of decision trees\n",
    "#n_estimators: how many individual decision trees do we want inside our random forest\n",
    "#max_depth: how deep each of the individual decision trees will go\n",
    "rf = RandomForestClassifier()\n",
    "parameters = {\n",
    "    'n_estimators': [5,50,100],\n",
    "    'max_depth': [2,10,20,None]\n",
    "}\n",
    "\n",
    "cv=GridSearchCV(rf,parameters,cv=5)\n",
    "#.fit() is the model training API no matter what the algorithm is\n",
    "cv.fit(tr_features,tr_labels.values.ravel())\n",
    "\n",
    "print_results(cv)"
   ]
  },
  {
   "cell_type": "code",
   "execution_count": null,
   "metadata": {},
   "outputs": [],
   "source": []
  }
 ],
 "metadata": {
  "kernelspec": {
   "display_name": "Python 3",
   "language": "python",
   "name": "python3"
  },
  "language_info": {
   "codemirror_mode": {
    "name": "ipython",
    "version": 3
   },
   "file_extension": ".py",
   "mimetype": "text/x-python",
   "name": "python",
   "nbconvert_exporter": "python",
   "pygments_lexer": "ipython3",
   "version": "3.6.5"
  }
 },
 "nbformat": 4,
 "nbformat_minor": 2
}
